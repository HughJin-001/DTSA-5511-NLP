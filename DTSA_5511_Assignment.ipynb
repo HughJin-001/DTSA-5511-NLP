{
  "nbformat": 4,
  "nbformat_minor": 0,
  "metadata": {
    "colab": {
      "name": "DTSA 5511 Assignment",
      "provenance": [],
      "collapsed_sections": [
        "NFU9xT6kpgIf"
      ],
      "toc_visible": true
    },
    "kernelspec": {
      "name": "python3",
      "display_name": "Python 3"
    }
  },
  "cells": [
    {
      "cell_type": "markdown",
      "metadata": {
        "id": "view-in-github"
      },
      "source": [
        "<a href=\"https://colab.research.google.com/github/emmanuellaanggi/disaster_tweet_sentiment/blob/master/Real_or_Not%3F_NLP_with_Disaster_Tweets_Kaggle.ipynb\" target=\"_parent\"><img src=\"https://colab.research.google.com/assets/colab-badge.svg\" alt=\"Open In Colab\"/></a>"
      ]
    },
    {
      "cell_type": "markdown",
      "metadata": {
        "id": "QyIHY0DU64yn"
      },
      "source": [
        "# DTSA 5511 PR Assignment\n",
        "\n"
      ]
    },
    {
      "cell_type": "markdown",
      "metadata": {
        "id": "r_41kyTE7IWN"
      },
      "source": [
        "## Project Description\n",
        "\n",
        "This project is a Kaggles competition and an assignment for DTSA 5511. As I said, the dataset I'm using here is from Kaggle and consists of tweets with labels indicating whether a tweet is a catastrophic tweet (a tweet describing a disaster). Through the data exploration and EDA in the first part, it is found that the data includes 7613 tweets (Text column) and labels (Target column), whether they are talking about a real disaster or not. There are 3271 lines for actual disasters and 4342 lines for non-actual disasters.\n",
        "\n",
        "To give you a better understanding of this project, I have divided this project into two sections. In the first Section I will import the data and do some visual analysis. Finally, do some preprocessing operations on the data\n",
        "\n",
        "Another section is a module for building models. Here I have built two models, the CNN model and the LSTM model. I compared the loss and acc of the two of them, and finally chose LSTM as my final model\n",
        "\n"
      ]
    },
    {
      "cell_type": "code",
      "metadata": {
        "id": "JEh0D8DSH1L4",
        "colab": {
          "base_uri": "https://localhost:8080/",
          "height": 0
        },
        "outputId": "d685b06b-7b5e-40bc-ca4b-0ed4a7851eaa"
      },
      "source": [
        "#For Pre-Processing\n",
        "from tqdm import tqdm\n",
        "import nltk\n",
        "from nltk.corpus import stopwords\n",
        "nltk.download('stopwords')\n",
        "nltk.download('punkt')\n",
        "from nltk.tokenize import RegexpTokenizer \n",
        "from nltk.tokenize import word_tokenize\n",
        "import os, re, csv, math, codecs\n",
        "\n",
        "\n",
        "# For Training\n",
        "import keras\n",
        "from keras import optimizers\n",
        "from keras import backend as K\n",
        "from keras import regularizers\n",
        "from keras.models import Sequential\n",
        "from keras.layers import Dense, Activation, Dropout, Flatten\n",
        "from keras.layers import Embedding, Conv1D, MaxPooling1D, GlobalMaxPooling1D\n",
        "from tensorflow.keras.layers import Embedding, LSTM, Dense, Dropout, Bidirectional\n",
        "from keras.utils.vis_utils import plot_model\n",
        "from keras.preprocessing import sequence\n",
        "from keras.preprocessing.text import Tokenizer\n",
        "from keras.callbacks import EarlyStopping\n",
        "\n",
        "# For array, dataset, and visualizing\n",
        "import numpy as np\n",
        "import pandas as pd\n",
        "import seaborn as sns\n",
        "import matplotlib.pyplot as plt\n",
        "\n",
        "sns.set_style(\"whitegrid\")\n",
        "np.random.seed(0)\n",
        "\n",
        "MAX_NB_WORDS = 100000\n",
        "tokenizer = RegexpTokenizer(r'\\w+')\n",
        "stop_words = set(stopwords.words('english'))\n",
        "stop_words.update(['.', ',', '\"', \"'\", ':', ';', '(', ')', '[', ']', '{', '}'])"
      ],
      "execution_count": 5,
      "outputs": [
        {
          "output_type": "stream",
          "name": "stderr",
          "text": [
            "[nltk_data] Downloading package stopwords to /root/nltk_data...\n",
            "[nltk_data]   Package stopwords is already up-to-date!\n",
            "[nltk_data] Downloading package punkt to /root/nltk_data...\n",
            "[nltk_data]   Package punkt is already up-to-date!\n"
          ]
        }
      ]
    },
    {
      "cell_type": "markdown",
      "metadata": {
        "id": "OryI3DKE8tr8"
      },
      "source": [
        "\n",
        "I convert all words to numeric indices, to embedding indices in the pretrained model, and convert all missing words to 0,\n"
      ]
    },
    {
      "cell_type": "code",
      "metadata": {
        "id": "IPqS-8FcEN95",
        "colab": {
          "base_uri": "https://localhost:8080/",
          "height": 0
        },
        "outputId": "10200bb6-5350-42ec-9dbc-5135a0bce86e"
      },
      "source": [
        "print('loading word embeddings...')\n",
        "\n",
        "embeddings_index = {}\n",
        "f = codecs.open('wiki-news-300d-1M.vec', encoding='utf-8')\n",
        "\n",
        "for line in tqdm(f):\n",
        "    values = line.rstrip().rsplit(' ')\n",
        "    word = values[0]\n",
        "    coefs = np.asarray(values[1:], dtype='float32')\n",
        "    embeddings_index[word] = coefs\n",
        "f.close()\n",
        "\n",
        "print('found %s word vectors' % len(embeddings_index))"
      ],
      "execution_count": 6,
      "outputs": [
        {
          "output_type": "stream",
          "name": "stdout",
          "text": [
            "loading word embeddings...\n"
          ]
        },
        {
          "output_type": "stream",
          "name": "stderr",
          "text": [
            "999995it [01:47, 9322.49it/s] "
          ]
        },
        {
          "output_type": "stream",
          "name": "stdout",
          "text": [
            "found 999995 word vectors\n"
          ]
        },
        {
          "output_type": "stream",
          "name": "stderr",
          "text": [
            "\n"
          ]
        }
      ]
    },
    {
      "cell_type": "markdown",
      "metadata": {
        "id": "0f453DpY80zi"
      },
      "source": [
        "## Section 1 : Data Expore and EDA\n",
        "As I said before, I will first import the data, the data includes 7613 tweets (Text column) and labels (Target column), there are 3271 lines to notify actual disasters, and 4342 lines to notify non-actual disasters"
      ]
    },
    {
      "cell_type": "code",
      "metadata": {
        "id": "gXof0wFo6Q8a",
        "colab": {
          "base_uri": "https://localhost:8080/",
          "height": 0
        },
        "outputId": "aa10d8b2-22e2-43da-8763-1a48289d509c"
      },
      "source": [
        "#load data\n",
        "train_df = pd.read_csv('/content/DTSA551 Data/train.csv', sep=',', header=0)\n",
        "test_df = pd.read_csv('/content/DTSA551 Data/test.csv', sep=',', header=0)\n",
        "test_df = test_df.fillna('_NA_')\n",
        "\n",
        "print(\"Number of training data \", train_df.shape[0])\n",
        "print(\"Number of testing data: \", test_df.shape[0])"
      ],
      "execution_count": 8,
      "outputs": [
        {
          "output_type": "stream",
          "name": "stdout",
          "text": [
            "Number of training data  7613\n",
            "Number of testing data:  3263\n"
          ]
        }
      ]
    },
    {
      "cell_type": "code",
      "metadata": {
        "id": "QQARD6HcIGYs",
        "colab": {
          "base_uri": "https://localhost:8080/",
          "height": 351
        },
        "outputId": "54d8a7a4-1f43-4717-a1cc-0358a5a14d70"
      },
      "source": [
        "label_names = [\"target\"]\n",
        "y_train = train_df[label_names].values\n",
        "train_df['doc_len'] = train_df['text'].apply(lambda words: len(words.split(\" \")))\n",
        "max_seq_len = np.round(train_df['doc_len'].mean() + train_df['doc_len'].std()).astype(int)\n",
        "\n",
        "sns.distplot(train_df['doc_len'], hist=True, kde=True, color='b', label='doc len')\n",
        "plt.axvline(x=max_seq_len, color='k', linestyle='--', label='max len')\n",
        "plt.title('comment length'); plt.legend()\n",
        "plt.show()"
      ],
      "execution_count": 9,
      "outputs": [
        {
          "output_type": "stream",
          "name": "stderr",
          "text": [
            "/usr/local/lib/python3.7/dist-packages/seaborn/distributions.py:2619: FutureWarning: `distplot` is a deprecated function and will be removed in a future version. Please adapt your code to use either `displot` (a figure-level function with similar flexibility) or `histplot` (an axes-level function for histograms).\n",
            "  warnings.warn(msg, FutureWarning)\n"
          ]
        },
        {
          "output_type": "display_data",
          "data": {
            "text/plain": [
              "<Figure size 432x288 with 1 Axes>"
            ],
            "image/png": "[encoded data removed]"
          },
          "metadata": {}
        }
      ]
    },
    {
      "cell_type": "markdown",
      "metadata": {
        "id": "a_AOE1b5elSz"
      },
      "source": [
        "I started doing some preprocessing on the data, I used the tokenizer from tensorflow to tokenize the data\n"
      ]
    },
    {
      "cell_type": "code",
      "metadata": {
        "id": "Cc_9P1cEGg5J",
        "colab": {
          "base_uri": "https://localhost:8080/",
          "height": 0
        },
        "outputId": "8f251c75-55c3-4286-90aa-5e250421c2a8"
      },
      "source": [
        "from sklearn.utils import shuffle \n",
        "\n",
        "raw_docs_train = train_df['text'].tolist()\n",
        "raw_docs_test = test_df['text'].tolist() \n",
        "num_classes = len(label_names)\n",
        "\n",
        "print(\"pre-processing train data...\")\n",
        "\n",
        "processed_docs_train = []\n",
        "for doc in tqdm(raw_docs_train):\n",
        "    tokens = word_tokenize(doc)\n",
        "    filtered = [word for word in tokens if word not in stop_words]\n",
        "    processed_docs_train.append(\" \".join(filtered))\n",
        "#end for\n",
        "\n",
        "processed_docs_test = []\n",
        "for doc in tqdm(raw_docs_test):\n",
        "    tokens = word_tokenize(doc)\n",
        "    filtered = [word for word in tokens if word not in stop_words]\n",
        "    processed_docs_test.append(\" \".join(filtered))\n",
        "#end for\n",
        "\n",
        "print(\"tokenizing input data...\")\n",
        "tokenizer = Tokenizer(num_words=MAX_NB_WORDS, lower=True, char_level=False)\n",
        "tokenizer.fit_on_texts(processed_docs_train + processed_docs_test)  #leaky\n",
        "word_seq_train = tokenizer.texts_to_sequences(processed_docs_train)\n",
        "word_seq_test = tokenizer.texts_to_sequences(processed_docs_test)\n",
        "word_index = tokenizer.word_index\n",
        "print(\"dictionary size: \", len(word_index))\n",
        "\n",
        "#pad sequences\n",
        "word_seq_train = sequence.pad_sequences(word_seq_train, maxlen=max_seq_len)\n",
        "word_seq_test = sequence.pad_sequences(word_seq_test, maxlen=max_seq_len)"
      ],
      "execution_count": 10,
      "outputs": [
        {
          "output_type": "stream",
          "name": "stdout",
          "text": [
            "pre-processing train data...\n"
          ]
        },
        {
          "output_type": "stream",
          "name": "stderr",
          "text": [
            "100%|██████████| 7613/7613 [00:01<00:00, 4063.90it/s]\n",
            "100%|██████████| 3263/3263 [00:00<00:00, 4245.31it/s]\n"
          ]
        },
        {
          "output_type": "stream",
          "name": "stdout",
          "text": [
            "tokenizing input data...\n",
            "dictionary size:  28698\n"
          ]
        }
      ]
    },
    {
      "cell_type": "markdown",
      "metadata": {
        "id": "IpGENGlOtQs1"
      },
      "source": [
        "## Section 2 Model Build"
      ]
    },
    {
      "cell_type": "markdown",
      "metadata": {
        "id": "Nyj7gwQKexxy"
      },
      "source": [
        "Here I will build two models, namely the LSTM model and the CNN model. I used a more traditional parameter setting scheme including setting the batch size to 256 ."
      ]
    },
    {
      "cell_type": "code",
      "metadata": {
        "id": "PSZ3krGMG303"
      },
      "source": [
        "#training params\n",
        "batch_size = 256 \n",
        "num_epochs = 40\n",
        "\n",
        "#model parameters\n",
        "num_filters = 64 \n",
        "embed_dim = 300 \n",
        "weight_decay = 1e-4"
      ],
      "execution_count": 11,
      "outputs": []
    },
    {
      "cell_type": "markdown",
      "metadata": {
        "id": "fZ6AlbhZe4Ky"
      },
      "source": [
        "I take the embedding matrix to determine the weight of each word in the training data. All words not in the fasttext pretrained model will be changed to 0. These are basically words with typos or names that are mostly not that important to the pattern. So it would be better to give it a weight of 0."
      ]
    },
    {
      "cell_type": "code",
      "metadata": {
        "id": "8SJbfuJPJEDC",
        "colab": {
          "base_uri": "https://localhost:8080/",
          "height": 0
        },
        "outputId": "f4ef5b35-8847-4e6e-e3fa-dd6f164abef2"
      },
      "source": [
        "words_not_found = []\n",
        "nb_words = min(MAX_NB_WORDS, len(word_index)+1)\n",
        "embedding_matrix = np.zeros((nb_words, embed_dim))\n",
        "\n",
        "for word, i in word_index.items():\n",
        "    if i >= nb_words:\n",
        "        continue\n",
        "    embedding_vector = embeddings_index.get(word)\n",
        "    if (embedding_vector is not None) and len(embedding_vector) > 0:\n",
        "        embedding_matrix[i] = embedding_vector\n",
        "    else:\n",
        "        words_not_found.append(word)\n",
        "print('number of null word embeddings: %d' % np.sum(np.sum(embedding_matrix, axis=1) == 0))"
      ],
      "execution_count": 12,
      "outputs": [
        {
          "output_type": "stream",
          "name": "stdout",
          "text": [
            "preparing embedding matrix...\n",
            "number of null word embeddings: 14232\n"
          ]
        }
      ]
    },
    {
      "cell_type": "code",
      "metadata": {
        "id": "S_pjm-7BJGuP",
        "colab": {
          "base_uri": "https://localhost:8080/",
          "height": 0
        },
        "outputId": "f8210552-97fa-4992-a215-ef901b54f891"
      },
      "source": [
        "print(\"sample words not found: \", np.random.choice(words_not_found, 10))"
      ],
      "execution_count": 13,
      "outputs": [
        {
          "output_type": "stream",
          "name": "stdout",
          "text": [
            "sample words not found:  ['doricreates' 'lpryzstk4u' 'ex8a5jyzm5' \"'suspected\" 'sitc' 'penneys'\n",
            " 'calgarysun' 'gajtugaui7' 'u52rw9ji2r' 'o2jd4tbrwa']\n"
          ]
        }
      ]
    },
    {
      "cell_type": "markdown",
      "metadata": {
        "id": "SUBAkn22ga48"
      },
      "source": [
        "#### 2.a LSTM Model \n",
        "I now start training the LSTM model. \n",
        "\n",
        "1. I use Sigmoid as the activation of the model output because this is a binary classification problem.\n",
        "\n",
        "\n",
        "2. I initially set a Dropout rate of 0.3, as the initial value, this is not too large, and can also be used to prevent overfitting\n",
        "\n",
        "3. Most importantly, when I fit the model, I introduced EarlyStopping, which effectively increases the training efficiency of the model, because with the increase of epoch, if the test loss is found to rise on the validation set, the model will stop training\n",
        "\n",
        "Finally, the val_loss of the model is 0.4103, and the val accuracy is 0.8139"
      ]
    },
    {
      "cell_type": "code",
      "metadata": {
        "id": "xpX2AFhKJJsh",
        "colab": {
          "base_uri": "https://localhost:8080/",
          "height": 0
        },
        "outputId": "d16a8eb4-579c-41da-c752-a700bc093026"
      },
      "source": [
        "from keras.layers import BatchNormalization\n",
        "import tensorflow as tf\n",
        "\n",
        "model = tf.keras.Sequential()\n",
        "\n",
        "model.add(Embedding(nb_words,embed_dim,input_length=max_seq_len, weights=[embedding_matrix],trainable=False))\n",
        "\n",
        "model.add(Dropout(0.3))\n",
        "model.add(Dense(32,activation='relu'))\n",
        "model.add(Bidirectional(LSTM(64,return_sequences= True)))\n",
        "model.add(Bidirectional(LSTM(64,return_sequences= True)))\n",
        "model.add(Bidirectional(LSTM(64,return_sequences= True)))\n",
        "model.add(Bidirectional(LSTM(64,return_sequences= True)))\n",
        "model.add(Bidirectional(LSTM(32)))\n",
        "model.add(Dense(32,activation='relu'))\n",
        "model.add(Dropout(0.3))\n",
        "\n",
        "model.add(Dense(1,activation='sigmoid'))\n",
        "model.summary()"
      ],
      "execution_count": 14,
      "outputs": [
        {
          "output_type": "stream",
          "name": "stdout",
          "text": [
            "Model: \"sequential\"\n",
            "_________________________________________________________________\n",
            " Layer (type)                Output Shape              Param #   \n",
            "=================================================================\n",
            " embedding (Embedding)       (None, 21, 300)           8609700   \n",
            "                                                                 \n",
            " dropout (Dropout)           (None, 21, 300)           0         \n",
            "                                                                 \n",
            " dense (Dense)               (None, 21, 32)            9632      \n",
            "                                                                 \n",
            " bidirectional (Bidirectiona  (None, 21, 128)          49664     \n",
            " l)                                                              \n",
            "                                                                 \n",
            " bidirectional_1 (Bidirectio  (None, 21, 128)          98816     \n",
            " nal)                                                            \n",
            "                                                                 \n",
            " bidirectional_2 (Bidirectio  (None, 21, 128)          98816     \n",
            " nal)                                                            \n",
            "                                                                 \n",
            " bidirectional_3 (Bidirectio  (None, 21, 128)          98816     \n",
            " nal)                                                            \n",
            "                                                                 \n",
            " bidirectional_4 (Bidirectio  (None, 64)               41216     \n",
            " nal)                                                            \n",
            "                                                                 \n",
            " dense_1 (Dense)             (None, 32)                2080      \n",
            "                                                                 \n",
            " dropout_1 (Dropout)         (None, 32)                0         \n",
            "                                                                 \n",
            " dense_2 (Dense)             (None, 1)                 33        \n",
            "                                                                 \n",
            "=================================================================\n",
            "Total params: 9,008,773\n",
            "Trainable params: 399,073\n",
            "Non-trainable params: 8,609,700\n",
            "_________________________________________________________________\n"
          ]
        }
      ]
    },
    {
      "cell_type": "code",
      "metadata": {
        "id": "tCpYrqbaJUb2"
      },
      "source": [
        "from tensorflow.keras.optimizers import RMSprop\n",
        "from keras.callbacks import ModelCheckpoint\n",
        "from tensorflow.keras.callbacks import EarlyStopping\n",
        "\n",
        "model.compile(loss='binary_crossentropy', optimizer='adam', metrics=['accuracy'])"
      ],
      "execution_count": 16,
      "outputs": []
    },
    {
      "cell_type": "code",
      "metadata": {
        "id": "o9tkbuRaJZ3d",
        "colab": {
          "base_uri": "https://localhost:8080/",
          "height": 0
        },
        "outputId": "eac160e5-6492-454a-9fe7-dd1e2e25fbcf"
      },
      "source": [
        "es_callback = EarlyStopping(monitor='val_loss', patience=3)\n",
        "\n",
        "history = model.fit(word_seq_train, y_train, batch_size=256,\n",
        "          epochs=num_epochs, validation_split=0.3, callbacks=[es_callback], shuffle=False)"
      ],
      "execution_count": 17,
      "outputs": [
        {
          "output_type": "stream",
          "name": "stdout",
          "text": [
            "Epoch 1/40\n",
            "21/21 [==============================] - 46s 889ms/step - loss: 0.6866 - accuracy: 0.5812 - val_loss: 0.6755 - val_accuracy: 0.6594\n",
            "Epoch 2/40\n",
            "21/21 [==============================] - 17s 819ms/step - loss: 0.6242 - accuracy: 0.6791 - val_loss: 0.5189 - val_accuracy: 0.7693\n",
            "Epoch 3/40\n",
            "21/21 [==============================] - 20s 969ms/step - loss: 0.5309 - accuracy: 0.7572 - val_loss: 0.4715 - val_accuracy: 0.7863\n",
            "Epoch 4/40\n",
            "21/21 [==============================] - 14s 676ms/step - loss: 0.4871 - accuracy: 0.7880 - val_loss: 0.4419 - val_accuracy: 0.8100\n",
            "Epoch 5/40\n",
            "21/21 [==============================] - 14s 675ms/step - loss: 0.4653 - accuracy: 0.7925 - val_loss: 0.4199 - val_accuracy: 0.8078\n",
            "Epoch 6/40\n",
            "21/21 [==============================] - 14s 680ms/step - loss: 0.4482 - accuracy: 0.8030 - val_loss: 0.4164 - val_accuracy: 0.8126\n",
            "Epoch 7/40\n",
            "21/21 [==============================] - 14s 674ms/step - loss: 0.4440 - accuracy: 0.8063 - val_loss: 0.4257 - val_accuracy: 0.8113\n",
            "Epoch 8/40\n",
            "21/21 [==============================] - 15s 743ms/step - loss: 0.4386 - accuracy: 0.8097 - val_loss: 0.4121 - val_accuracy: 0.8157\n",
            "Epoch 9/40\n",
            "21/21 [==============================] - 16s 770ms/step - loss: 0.4276 - accuracy: 0.8169 - val_loss: 0.4031 - val_accuracy: 0.8196\n",
            "Epoch 10/40\n",
            "21/21 [==============================] - 14s 675ms/step - loss: 0.4240 - accuracy: 0.8155 - val_loss: 0.4125 - val_accuracy: 0.8183\n",
            "Epoch 11/40\n",
            "21/21 [==============================] - 14s 684ms/step - loss: 0.4208 - accuracy: 0.8195 - val_loss: 0.4056 - val_accuracy: 0.8201\n",
            "Epoch 12/40\n",
            "21/21 [==============================] - 14s 663ms/step - loss: 0.4102 - accuracy: 0.8230 - val_loss: 0.4007 - val_accuracy: 0.8209\n",
            "Epoch 13/40\n",
            "21/21 [==============================] - 14s 648ms/step - loss: 0.4103 - accuracy: 0.8219 - val_loss: 0.4163 - val_accuracy: 0.8122\n",
            "Epoch 14/40\n",
            "21/21 [==============================] - 14s 654ms/step - loss: 0.4009 - accuracy: 0.8274 - val_loss: 0.4304 - val_accuracy: 0.8030\n",
            "Epoch 15/40\n",
            "21/21 [==============================] - 16s 756ms/step - loss: 0.4027 - accuracy: 0.8319 - val_loss: 0.4103 - val_accuracy: 0.8139\n"
          ]
        }
      ]
    },
    {
      "cell_type": "markdown",
      "metadata": {
        "id": "kF_jtJSghCUl"
      },
      "source": [
        "evaluation on the training for each epoch"
      ]
    },
    {
      "cell_type": "code",
      "metadata": {
        "id": "mX6utTzSN2pB",
        "colab": {
          "base_uri": "https://localhost:8080/",
          "height": 295
        },
        "outputId": "ba2d1165-9cc8-41dc-a3ae-8dda0375c687"
      },
      "source": [
        "#generate plots\n",
        "plt.figure()\n",
        "plt.plot(history.history['loss'], lw=2.0, color='b', label='train')\n",
        "plt.plot(history.history['val_loss'], lw=2.0, color='r', label='val')\n",
        "plt.title('LSTM sentiment')\n",
        "plt.xlabel('Epochs')\n",
        "plt.ylabel('Cross-Entropy Loss')\n",
        "plt.legend(loc='upper right')\n",
        "plt.show()"
      ],
      "execution_count": 18,
      "outputs": [
        {
          "output_type": "display_data",
          "data": {
            "text/plain": [
              "<Figure size 432x288 with 1 Axes>"
            ],
            "image/png": "[encoded data removed]"
          },
          "metadata": {}
        }
      ]
    },
    {
      "cell_type": "code",
      "metadata": {
        "id": "PM12-5wFN7tw",
        "colab": {
          "base_uri": "https://localhost:8080/",
          "height": 295
        },
        "outputId": "f6b07466-cc69-4092-d9aa-cc3350dcfddf"
      },
      "source": [
        "plt.figure()\n",
        "plt.plot(history.history['accuracy'], lw=2.0, color='b', label='train')\n",
        "plt.plot(history.history['val_accuracy'], lw=2.0, color='r', label='val')\n",
        "plt.title('LSTM sentiment')\n",
        "plt.xlabel('Epochs')\n",
        "plt.ylabel('Accuracy')\n",
        "plt.legend(loc='upper left')\n",
        "plt.show()"
      ],
      "execution_count": 19,
      "outputs": [
        {
          "output_type": "display_data",
          "data": {
            "text/plain": [
              "<Figure size 432x288 with 1 Axes>"
            ],
            "image/png": "[encoded data removed]"
          },
          "metadata": {}
        }
      ]
    },
    {
      "cell_type": "markdown",
      "source": [
        "### 2.b CNN Model\n",
        "Now I will train a CNN model. In order to better compare the model, I use similar parameters, the output activation is also set to sigmoid, and the loss function is also binary_crossentropy. But I set the dropout rate of the hidden node of the CNN model to 0.5, because through cross-validation, when the dropout of the hidden function is 0.5, the effect is good"
      ],
      "metadata": {
        "id": "STSH6vr_vwvi"
      }
    },
    {
      "cell_type": "code",
      "metadata": {
        "id": "u9RfWN0ggR7l"
      },
      "source": [
        "# we don't want the model to overwrite, dont we?\n",
        "keras.backend.clear_session()"
      ],
      "execution_count": 21,
      "outputs": []
    },
    {
      "cell_type": "code",
      "metadata": {
        "id": "KOJvL8DDQBPU",
        "colab": {
          "base_uri": "https://localhost:8080/",
          "height": 0
        },
        "outputId": "e8724813-695c-4258-df0e-5dfb532d9e5c"
      },
      "source": [
        "#CNN architecture\n",
        "from tensorflow import keras\n",
        "model = Sequential()\n",
        "model.add(Embedding(nb_words, embed_dim,\n",
        "          weights=[embedding_matrix], input_length=max_seq_len, trainable=False))\n",
        "model.add(Conv1D(num_filters, 7, activation='relu', padding='same'))\n",
        "model.add(MaxPooling1D(2))\n",
        "model.add(Conv1D(num_filters, 7, activation='relu', padding='same'))\n",
        "model.add(GlobalMaxPooling1D())\n",
        "model.add(Dropout(0.5))\n",
        "model.add(Dense(32, activation='relu', kernel_regularizer=regularizers.l2(weight_decay)))\n",
        "model.add(Dense(num_classes, activation='sigmoid'))  \n",
        "adam = tf.optimizers.Adam(lr=0.001, beta_1=0.9, beta_2=0.999, epsilon=1e-08, decay=0.0)\n",
        "model.compile(loss='binary_crossentropy', optimizer=adam, metrics=['accuracy'])\n",
        "model.summary()"
      ],
      "execution_count": 24,
      "outputs": [
        {
          "output_type": "stream",
          "name": "stdout",
          "text": [
            "training CNN ...\n",
            "Model: \"sequential_2\"\n",
            "_________________________________________________________________\n",
            " Layer (type)                Output Shape              Param #   \n",
            "=================================================================\n",
            " embedding_2 (Embedding)     (None, 21, 300)           8609700   \n",
            "                                                                 \n",
            " conv1d_4 (Conv1D)           (None, 21, 64)            134464    \n",
            "                                                                 \n",
            " max_pooling1d_2 (MaxPooling  (None, 10, 64)           0         \n",
            " 1D)                                                             \n",
            "                                                                 \n",
            " conv1d_5 (Conv1D)           (None, 10, 64)            28736     \n",
            "                                                                 \n",
            " global_max_pooling1d_2 (Glo  (None, 64)               0         \n",
            " balMaxPooling1D)                                                \n",
            "                                                                 \n",
            " dropout_2 (Dropout)         (None, 64)                0         \n",
            "                                                                 \n",
            " dense_4 (Dense)             (None, 32)                2080      \n",
            "                                                                 \n",
            " dense_5 (Dense)             (None, 1)                 33        \n",
            "                                                                 \n",
            "=================================================================\n",
            "Total params: 8,775,013\n",
            "Trainable params: 165,313\n",
            "Non-trainable params: 8,609,700\n",
            "_________________________________________________________________\n"
          ]
        },
        {
          "output_type": "stream",
          "name": "stderr",
          "text": [
            "/usr/local/lib/python3.7/dist-packages/keras/optimizer_v2/adam.py:105: UserWarning: The `lr` argument is deprecated, use `learning_rate` instead.\n",
            "  super(Adam, self).__init__(name, **kwargs)\n"
          ]
        }
      ]
    },
    {
      "cell_type": "code",
      "metadata": {
        "id": "uC0XjvhMjCDN"
      },
      "source": [
        "from tensorflow.keras.optimizers import RMSprop\n",
        "from keras.callbacks import ModelCheckpoint\n",
        "from tensorflow.keras.callbacks import EarlyStopping\n",
        "\n",
        "model.compile(loss='binary_crossentropy', optimizer='adam', metrics=['accuracy'])"
      ],
      "execution_count": 26,
      "outputs": []
    },
    {
      "cell_type": "code",
      "metadata": {
        "id": "kW4_cUTOjCDd",
        "colab": {
          "base_uri": "https://localhost:8080/",
          "height": 0
        },
        "outputId": "91c220b6-c652-4d19-c615-153a17c6cbfa"
      },
      "source": [
        "es_callback = EarlyStopping(monitor='val_loss', patience=3)\n",
        "\n",
        "history = model.fit(word_seq_train, y_train, batch_size=256,\n",
        "          epochs=num_epochs, validation_split=0.3, callbacks=[es_callback], shuffle=False)"
      ],
      "execution_count": 27,
      "outputs": [
        {
          "output_type": "stream",
          "name": "stdout",
          "text": [
            "Epoch 1/40\n",
            "21/21 [==============================] - 4s 148ms/step - loss: 0.6642 - accuracy: 0.6262 - val_loss: 0.5804 - val_accuracy: 0.7557\n",
            "Epoch 2/40\n",
            "21/21 [==============================] - 2s 115ms/step - loss: 0.5465 - accuracy: 0.7454 - val_loss: 0.4650 - val_accuracy: 0.7859\n",
            "Epoch 3/40\n",
            "21/21 [==============================] - 2s 117ms/step - loss: 0.4580 - accuracy: 0.8013 - val_loss: 0.4255 - val_accuracy: 0.8139\n",
            "Epoch 4/40\n",
            "21/21 [==============================] - 2s 116ms/step - loss: 0.4080 - accuracy: 0.8332 - val_loss: 0.4349 - val_accuracy: 0.8021\n",
            "Epoch 5/40\n",
            "21/21 [==============================] - 5s 224ms/step - loss: 0.3669 - accuracy: 0.8555 - val_loss: 0.4444 - val_accuracy: 0.8043\n",
            "Epoch 6/40\n",
            "21/21 [==============================] - 4s 177ms/step - loss: 0.3388 - accuracy: 0.8726 - val_loss: 0.4340 - val_accuracy: 0.8100\n"
          ]
        }
      ]
    },
    {
      "cell_type": "markdown",
      "metadata": {
        "id": "KpL3HNHhjCDn"
      },
      "source": [
        "evaluation on the training for each epoch with this model"
      ]
    },
    {
      "cell_type": "code",
      "metadata": {
        "id": "A394zVlKjCDp",
        "colab": {
          "base_uri": "https://localhost:8080/",
          "height": 295
        },
        "outputId": "f257fa29-1e0e-45fd-bccb-970d52d80332"
      },
      "source": [
        "#generate plots\n",
        "plt.figure()\n",
        "plt.plot(history.history['loss'], lw=2.0, color='b', label='train')\n",
        "plt.plot(history.history['val_loss'], lw=2.0, color='r', label='val')\n",
        "plt.title('CNN sentiment')\n",
        "plt.xlabel('Epochs')\n",
        "plt.ylabel('Cross-Entropy Loss')\n",
        "plt.legend(loc='upper right')\n",
        "plt.show()"
      ],
      "execution_count": 28,
      "outputs": [
        {
          "output_type": "display_data",
          "data": {
            "text/plain": [
              "<Figure size 432x288 with 1 Axes>"
            ],
            "image/png": "[encoded data removed]"
          },
          "metadata": {}
        }
      ]
    },
    {
      "cell_type": "code",
      "metadata": {
        "id": "3zh8IpX4jCDv",
        "colab": {
          "base_uri": "https://localhost:8080/",
          "height": 295
        },
        "outputId": "859572e8-52fa-4f71-fe72-f1302f8cd4c3"
      },
      "source": [
        "plt.figure()\n",
        "plt.plot(history.history['accuracy'], lw=2.0, color='b', label='train')\n",
        "plt.plot(history.history['val_accuracy'], lw=2.0, color='r', label='val')\n",
        "plt.title('CNN sentiment')\n",
        "plt.xlabel('Epochs')\n",
        "plt.ylabel('Accuracy')\n",
        "plt.legend(loc='upper left')\n",
        "plt.show()"
      ],
      "execution_count": 29,
      "outputs": [
        {
          "output_type": "display_data",
          "data": {
            "text/plain": [
              "<Figure size 432x288 with 1 Axes>"
            ],
            "image/png": "[encoded data removed]"
          },
          "metadata": {}
        }
      ]
    },
    {
      "cell_type": "markdown",
      "source": [
        "## Summary\n",
        "After comparison, we can see that the LSTM model will perform better than the CNN model on this problem. The final validation loss of the LSTM model is about 0.41, and the validation accuracy is about 0.813. On the contrary, the validation loss of the CNN model is about 0.43 and the validation accuracy is about 0.810. So I ended up choosing LSTM as my final model"
      ],
      "metadata": {
        "id": "cxM0UPwHwS4L"
      }
    }
  ]
}